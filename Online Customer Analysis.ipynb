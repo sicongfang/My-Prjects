{
 "cells": [
  {
   "cell_type": "code",
   "execution_count": 1,
   "metadata": {
    "collapsed": false
   },
   "outputs": [],
   "source": [
    "import numpy as np\n",
    "import pandas as pd\n",
    "import matplotlib.pyplot as plt\n",
    "import seaborn as sns\n",
    "% matplotlib inline"
   ]
  },
  {
   "cell_type": "code",
   "execution_count": 2,
   "metadata": {
    "collapsed": false
   },
   "outputs": [],
   "source": [
    "df=pd.read_excel('C:/Users/sicon/Downloads/Retail Case Files/RetailerPromotionStrategy_data.xlsx',header=0)"
   ]
  },
  {
   "cell_type": "code",
   "execution_count": 172,
   "metadata": {
    "collapsed": false
   },
   "outputs": [
    {
     "data": {
      "text/html": [
       "<div>\n",
       "<table border=\"1\" class=\"dataframe\">\n",
       "  <thead>\n",
       "    <tr style=\"text-align: right;\">\n",
       "      <th></th>\n",
       "      <th>StoreID</th>\n",
       "      <th>BasketID</th>\n",
       "      <th>Line</th>\n",
       "      <th>Sales</th>\n",
       "      <th>Count</th>\n",
       "      <th>Date</th>\n",
       "      <th>SKU</th>\n",
       "    </tr>\n",
       "  </thead>\n",
       "  <tbody>\n",
       "    <tr>\n",
       "      <th>0</th>\n",
       "      <td>X29</td>\n",
       "      <td>11-7270-00007-00057</td>\n",
       "      <td>36</td>\n",
       "      <td>850.0</td>\n",
       "      <td>1.0</td>\n",
       "      <td>2012-03-11</td>\n",
       "      <td>A21773</td>\n",
       "    </tr>\n",
       "    <tr>\n",
       "      <th>1</th>\n",
       "      <td>X29</td>\n",
       "      <td>11-7270-00007-00057</td>\n",
       "      <td>39</td>\n",
       "      <td>1500.0</td>\n",
       "      <td>1.0</td>\n",
       "      <td>2012-03-11</td>\n",
       "      <td>A18009</td>\n",
       "    </tr>\n",
       "    <tr>\n",
       "      <th>2</th>\n",
       "      <td>X29</td>\n",
       "      <td>11-7270-00007-00057</td>\n",
       "      <td>40</td>\n",
       "      <td>1500.0</td>\n",
       "      <td>1.0</td>\n",
       "      <td>2012-03-11</td>\n",
       "      <td>A25592</td>\n",
       "    </tr>\n",
       "    <tr>\n",
       "      <th>3</th>\n",
       "      <td>X29</td>\n",
       "      <td>11-7270-00007-00057</td>\n",
       "      <td>41</td>\n",
       "      <td>1600.0</td>\n",
       "      <td>1.0</td>\n",
       "      <td>2012-03-11</td>\n",
       "      <td>A1449</td>\n",
       "    </tr>\n",
       "    <tr>\n",
       "      <th>4</th>\n",
       "      <td>X29</td>\n",
       "      <td>11-7270-00007-00057</td>\n",
       "      <td>42</td>\n",
       "      <td>1600.0</td>\n",
       "      <td>1.0</td>\n",
       "      <td>2012-03-11</td>\n",
       "      <td>A1449</td>\n",
       "    </tr>\n",
       "  </tbody>\n",
       "</table>\n",
       "</div>"
      ],
      "text/plain": [
       "  StoreID             BasketID  Line   Sales  Count       Date     SKU\n",
       "0     X29  11-7270-00007-00057    36   850.0    1.0 2012-03-11  A21773\n",
       "1     X29  11-7270-00007-00057    39  1500.0    1.0 2012-03-11  A18009\n",
       "2     X29  11-7270-00007-00057    40  1500.0    1.0 2012-03-11  A25592\n",
       "3     X29  11-7270-00007-00057    41  1600.0    1.0 2012-03-11   A1449\n",
       "4     X29  11-7270-00007-00057    42  1600.0    1.0 2012-03-11   A1449"
      ]
     },
     "execution_count": 172,
     "metadata": {},
     "output_type": "execute_result"
    }
   ],
   "source": [
    "df.head()"
   ]
  },
  {
   "cell_type": "markdown",
   "metadata": {},
   "source": [
    "**1. For their top 5 selling products, on average, do people purchase more items when given a discount?**"
   ]
  },
  {
   "cell_type": "code",
   "execution_count": 345,
   "metadata": {
    "collapsed": false
   },
   "outputs": [
    {
     "data": {
      "text/plain": [
       "Index([u'A10809', u'A3664', u'A21771', u'A2854', u'A25312'], dtype='object', name=u'SKU')"
      ]
     },
     "execution_count": 345,
     "metadata": {},
     "output_type": "execute_result"
    }
   ],
   "source": [
    "# Find out baskets that are mainly returning product bought in previous circle\n",
    "df1=df.groupby(by=['BasketID'])['Count'].sum()\n",
    "df1=pd.DataFrame(df1)\n",
    "return_item=df1[df1['Count']<0].index\n",
    "df2=df[-df[\"BasketID\"].isin(return_item)]\n",
    "\n",
    "# Top five selling product accoding to number of item sold\n",
    "Top_item=df2.groupby(by=['SKU'])['Count'].sum()\n",
    "Top_5=Top_item.sort_values(ascending=False)[:5]\n",
    "Top_5.index\n"
   ]
  },
  {
   "cell_type": "code",
   "execution_count": 174,
   "metadata": {
    "collapsed": false
   },
   "outputs": [
    {
     "data": {
      "text/plain": [
       "SKU\n",
       "A10809    35579.0\n",
       "A3664     30904.0\n",
       "A21771    23433.0\n",
       "A2854     15574.0\n",
       "A25312    13012.0\n",
       "Name: Count, dtype: float64"
      ]
     },
     "execution_count": 174,
     "metadata": {},
     "output_type": "execute_result"
    }
   ],
   "source": [
    "Top_5"
   ]
  },
  {
   "cell_type": "code",
   "execution_count": 190,
   "metadata": {
    "collapsed": false
   },
   "outputs": [
    {
     "data": {
      "text/plain": [
       "SKU\n",
       "A10809    34811.0\n",
       "A21771        1.0\n",
       "A25312     8396.0\n",
       "A3664         4.0\n",
       "Name: Count, dtype: float64"
      ]
     },
     "execution_count": 190,
     "metadata": {},
     "output_type": "execute_result"
    }
   ],
   "source": [
    "# Find promotion index\n",
    "index2=df2[(df2['SKU'].isin(Top_5.index))&(df2['Count']==0)].index\n",
    "# Find number of goods bought during promotion\n",
    "\n",
    "temp=df2.loc[index2-1]\n",
    "Top_5_onsale=temp[temp['SKU'].isin(Top_5.index)]\n",
    "\n",
    "# Number of promotion not used immediately, total 34, can be ignored\n",
    "later=len(temp[-temp['SKU'].isin(Top_5.index)].index)\n",
    "\n",
    "Top_5_onsale_sum=Top_5_onsale.groupby(by=['SKU'])['Count'].sum()\n",
    "Top_5_not_onsale=Top_5-Top_5_onsale_sum\n",
    "#len(Top_5_onsale['SKU'].unique())\n",
    "Top_5_onsale_sum"
   ]
  },
  {
   "cell_type": "code",
   "execution_count": 191,
   "metadata": {
    "collapsed": false
   },
   "outputs": [
    {
     "data": {
      "text/plain": [
       "SKU\n",
       "A10809    34811.0\n",
       "A21771        0.0\n",
       "A25312     8396.0\n",
       "A3664         0.0\n",
       "A2854         0.0\n",
       "Name: Count, dtype: float64"
      ]
     },
     "execution_count": 191,
     "metadata": {},
     "output_type": "execute_result"
    }
   ],
   "source": [
    "\n",
    "Top_5_onsale_sum['A2854']=0 \n",
    "Top_5_onsale_sum['A21771']=0\n",
    "Top_5_onsale_sum['A3664']=0\n",
    "Top_5_onsale_sum"
   ]
  },
  {
   "cell_type": "code",
   "execution_count": 192,
   "metadata": {
    "collapsed": false
   },
   "outputs": [
    {
     "data": {
      "text/plain": [
       "SKU\n",
       "A10809      768.0\n",
       "A21771    23433.0\n",
       "A25312     4616.0\n",
       "A2854     15574.0\n",
       "A3664     30904.0\n",
       "Name: Count, dtype: float64"
      ]
     },
     "execution_count": 192,
     "metadata": {},
     "output_type": "execute_result"
    }
   ],
   "source": [
    "Top_5_not_onsale=Top_5-Top_5_onsale_sum\n",
    "Top_5_not_onsale"
   ]
  },
  {
   "cell_type": "code",
   "execution_count": 196,
   "metadata": {
    "collapsed": false
   },
   "outputs": [],
   "source": [
    "# Calculate average\n",
    "count_onsale=df2[(df2['SKU'].isin(Top_5.index))&(df2['Count']==0)].groupby(by=['SKU'])['Count'].count()\n",
    "percentage=[]\n",
    "for i in ['A10809','A25312']:\n",
    "    percentage.append(Top_5_onsale_sum[i]/count_onsale[i])\n",
    "\n",
    "\n",
    "#count_not_onsale=df2[(df2['SKU'].isin(['A21771','A2854']))&(df2['Count']>0)].groupby(by=['SKU'])['Count'].count()\n",
    "\n",
    "count_not_onsale2=df2[(df2['SKU'].isin(['A10809','A25312']))&(df2['Count']>0)].groupby(by=['SKU'])['Count'].count()\n",
    "\n",
    "#count_not_onsale2    \n",
    "percentage1=[]\n",
    "\n",
    "for i in ['A10809','A25312']:\n",
    "    percentage1.append(Top_5_not_onsale[i]/(count_not_onsale2[i]-count_onsale[i]))\n",
    "        \n",
    "    \n",
    "   "
   ]
  },
  {
   "cell_type": "code",
   "execution_count": 197,
   "metadata": {
    "collapsed": false
   },
   "outputs": [
    {
     "data": {
      "text/plain": [
       "[12.630986937590711, 1.0264058679706602]"
      ]
     },
     "execution_count": 197,
     "metadata": {},
     "output_type": "execute_result"
    }
   ],
   "source": [
    "percentage"
   ]
  },
  {
   "cell_type": "code",
   "execution_count": 198,
   "metadata": {
    "collapsed": false
   },
   "outputs": [
    {
     "data": {
      "text/plain": [
       "[3.0236220472440944, 1.0036964557512502]"
      ]
     },
     "execution_count": 198,
     "metadata": {},
     "output_type": "execute_result"
    }
   ],
   "source": [
    "percentage1 # Promotion increases average amount people buy"
   ]
  },
  {
   "cell_type": "markdown",
   "metadata": {},
   "source": [
    "2. For their top 5 selling products, which product has the highest demand elasticity?"
   ]
  },
  {
   "cell_type": "code",
   "execution_count": 333,
   "metadata": {
    "collapsed": false
   },
   "outputs": [],
   "source": [
    "#find onsasle index\n",
    "df21=df2[(df2['SKU']=='A10809')&(df2['Count']==0)]\n",
    "index3=df21.index\n",
    "#find onsale trasaction\n",
    "df3=df2.loc[index3-1]\n",
    "df30=df3[df3['SKU']==\"A10809\"]\n",
    "\n",
    "#'A10809' onsale transaction\n",
    "df4=df21.merge(df30.rename(columns={\"Sales\":\"Sales0\",\"Count\":\"Count0\"}),on=['BasketID'])\n",
    "\n",
    "\n",
    "#df5=df2.loc[df4.index+1]\n",
    "\n",
    "df4['Price']=(df4.reset_index()['Sales']+df4.reset_index()['Sales0'])/df4.reset_index()['Count0']\n",
    "\n",
    "#non_onsale transaction\n",
    "k=df3.index\n",
    "df6=df2.drop(k)\n"
   ]
  },
  {
   "cell_type": "code",
   "execution_count": 271,
   "metadata": {
    "collapsed": false
   },
   "outputs": [
    {
     "name": "stderr",
     "output_type": "stream",
     "text": [
      "C:\\Users\\sicon\\Anaconda2\\lib\\site-packages\\ipykernel\\__main__.py:2: SettingWithCopyWarning: \n",
      "A value is trying to be set on a copy of a slice from a DataFrame.\n",
      "Try using .loc[row_indexer,col_indexer] = value instead\n",
      "\n",
      "See the caveats in the documentation: http://pandas.pydata.org/pandas-docs/stable/indexing.html#indexing-view-versus-copy\n",
      "  from ipykernel import kernelapp as app\n"
     ]
    },
    {
     "data": {
      "text/plain": [
       "array([ 500.])"
      ]
     },
     "execution_count": 271,
     "metadata": {},
     "output_type": "execute_result"
    }
   ],
   "source": [
    "df7=df6[(df6['SKU']=='A10809')&(df6['Count']>0)]\n",
    "df7['Price']=df7['Sales']/df7['Count']\n",
    "df7['Price'].unique()"
   ]
  },
  {
   "cell_type": "code",
   "execution_count": 337,
   "metadata": {
    "collapsed": false
   },
   "outputs": [
    {
     "data": {
      "text/plain": [
       "StoreID\n",
       "X03     23.0\n",
       "X11     10.0\n",
       "X14     13.0\n",
       "X17     94.0\n",
       "X21      8.0\n",
       "X23     10.0\n",
       "X24     10.0\n",
       "X27     21.0\n",
       "X38     10.0\n",
       "X43     30.0\n",
       "X44     10.0\n",
       "X45     22.0\n",
       "X49     10.0\n",
       "X53     11.0\n",
       "X55     49.0\n",
       "X59     77.0\n",
       "X60     72.0\n",
       "X63     30.0\n",
       "X65     27.0\n",
       "X72    139.0\n",
       "X78    212.0\n",
       "X85     23.0\n",
       "Name: Count, dtype: float64"
      ]
     },
     "execution_count": 337,
     "metadata": {},
     "output_type": "execute_result"
    }
   ],
   "source": [
    "by_store=df7.groupby(by=['StoreID'])['Count'].sum()\n",
    "by_store_onsale=df4.groupby(by=['StoreID_x'])['Count0'].sum()\n",
    "by_store"
   ]
  },
  {
   "cell_type": "code",
   "execution_count": 339,
   "metadata": {
    "collapsed": false
   },
   "outputs": [
    {
     "data": {
      "text/plain": [
       "StoreID\n",
       "X03    15.072464\n",
       "X11     1.647059\n",
       "X14     8.026125\n",
       "X17     5.522775\n",
       "X21    11.862745\n",
       "X23     1.166667\n",
       "X24     2.666667\n",
       "X27     2.532468\n",
       "X38     0.609553\n",
       "X43     1.643519\n",
       "X44     2.076923\n",
       "X45    17.445887\n",
       "X49     4.933333\n",
       "X53     4.181818\n",
       "X55     8.723860\n",
       "X59    21.847432\n",
       "X60    -1.274462\n",
       "X63     4.418605\n",
       "X65     4.784580\n",
       "X72     8.637534\n",
       "X78    16.216518\n",
       "X85     3.109857\n",
       "dtype: float64"
      ]
     },
     "execution_count": 339,
     "metadata": {},
     "output_type": "execute_result"
    }
   ],
   "source": [
    "count1=df7.groupby(by=['StoreID'])['Count'].count()\n",
    "count2=df4.groupby(by=['StoreID_x'])['Count'].count()\n",
    "demand_not_onsale=by_store/count1\n",
    "demand_onsale=by_store_onsale/count2\n",
    "elasticity=((demand_onsale[by_store.index]-demand_not_onsale)/demand_not_onsale)/0.3\n",
    "elasticity"
   ]
  },
  {
   "cell_type": "markdown",
   "metadata": {},
   "source": [
    "3. For this product (identified in question #2) or the top selling product, does the number of days on promotion impact the effectiveness of the promotion (i.e. how many units people buy)?"
   ]
  },
  {
   "cell_type": "code",
   "execution_count": 362,
   "metadata": {
    "collapsed": false
   },
   "outputs": [
    {
     "name": "stdout",
     "output_type": "stream",
     "text": [
      "Date_x      StoreID_x\n",
      "2012-03-11  X17          12.876543\n",
      "            X27          11.209302\n",
      "            X29          11.785714\n",
      "            X38          11.640187\n",
      "            X43          13.073684\n",
      "            X55          10.425926\n",
      "            X60          10.778894\n",
      "            X65          10.987654\n",
      "            X71          11.038462\n",
      "            X72           9.984848\n",
      "            X78          11.463768\n",
      "            X85          11.114504\n",
      "            X97          11.094595\n",
      "            X99          11.250000\n",
      "2012-03-12  X01          10.857143\n",
      "            X02          11.714286\n",
      "            X03          12.700000\n",
      "            X05          10.000000\n",
      "            X06          30.000000\n",
      "            X07          15.185185\n",
      "            X09          11.176471\n",
      "            X10          10.000000\n",
      "            X11          14.941176\n",
      "            X12          10.000000\n",
      "            X13          14.181818\n",
      "            X14          11.075472\n",
      "            X15          16.125000\n",
      "            X16          10.000000\n",
      "            X17          14.500000\n",
      "            X20          10.000000\n",
      "            X21          18.235294\n",
      "            X22          16.666667\n",
      "            X23          13.500000\n",
      "            X24          18.000000\n",
      "            X25          10.769231\n",
      "            X26          14.500000\n",
      "            X27          14.391304\n",
      "            X29          17.071429\n",
      "            X31          10.588235\n",
      "            X32          15.285714\n",
      "            X33          15.214286\n",
      "            X34          14.589744\n",
      "            X35          12.000000\n",
      "            X38          12.205607\n",
      "            X39          15.652174\n",
      "            X40          10.000000\n",
      "            X41          10.000000\n",
      "            X42          10.000000\n",
      "            X43          18.530612\n",
      "            X44          16.230769\n",
      "            X45          11.428571\n",
      "            X46          11.190476\n",
      "            X47          10.000000\n",
      "            X49          24.800000\n",
      "            X50          10.529412\n",
      "            X51          10.400000\n",
      "            X52          30.000000\n",
      "            X53          12.400000\n",
      "            X56          10.000000\n",
      "            X57          10.833333\n",
      "            X59          11.405405\n",
      "            X60          13.366667\n",
      "            X61          10.000000\n",
      "            X63          13.953488\n",
      "            X65          10.823529\n",
      "            X66          10.000000\n",
      "            X68          10.000000\n",
      "            X69          10.000000\n",
      "            X71          14.586207\n",
      "            X72          14.666667\n",
      "            X73          11.509804\n",
      "            X74          16.964286\n",
      "            X75          12.727273\n",
      "            X76          15.000000\n",
      "            X77          14.800000\n",
      "            X78          24.440678\n",
      "Name: Count0, dtype: float64\n"
     ]
    }
   ],
   "source": [
    "def print_full(x):\n",
    "    pd.set_option('display.max_rows', len(x))\n",
    "    print(x)\n",
    "    pd.reset_option('display.max_rows')\n",
    "    \n",
    "print_full(df8)"
   ]
  },
  {
   "cell_type": "code",
   "execution_count": 360,
   "metadata": {
    "collapsed": false
   },
   "outputs": [
    {
     "name": "stdout",
     "output_type": "stream",
     "text": [
      "Date_x      StoreID_x\n",
      "2012-03-11  X17          12.876543\n",
      "            X27          11.209302\n",
      "            X29          11.785714\n",
      "            X38          11.640187\n",
      "            X43          13.073684\n",
      "            X55          10.425926\n",
      "            X60          10.778894\n",
      "            X65          10.987654\n",
      "            X71          11.038462\n",
      "            X72           9.984848\n",
      "            X78          11.463768\n",
      "            X85          11.114504\n",
      "            X97          11.094595\n",
      "            X99          11.250000\n",
      "2012-03-12  X01          10.857143\n",
      "            X02          11.714286\n",
      "            X03          12.700000\n",
      "            X05          10.000000\n",
      "            X06          30.000000\n",
      "            X07          15.185185\n",
      "            X09          11.176471\n",
      "            X10          10.000000\n",
      "            X11          14.941176\n",
      "            X12          10.000000\n",
      "            X13          14.181818\n",
      "            X14          11.075472\n",
      "            X15          16.125000\n",
      "            X16          10.000000\n",
      "            X17          14.500000\n",
      "            X20          10.000000\n",
      "                           ...    \n",
      "            X41          10.000000\n",
      "            X42          10.000000\n",
      "            X43          18.530612\n",
      "            X44          16.230769\n",
      "            X45          11.428571\n",
      "            X46          11.190476\n",
      "            X47          10.000000\n",
      "            X49          24.800000\n",
      "            X50          10.529412\n",
      "            X51          10.400000\n",
      "            X52          30.000000\n",
      "            X53          12.400000\n",
      "            X56          10.000000\n",
      "            X57          10.833333\n",
      "            X59          11.405405\n",
      "            X60          13.366667\n",
      "            X61          10.000000\n",
      "            X63          13.953488\n",
      "            X65          10.823529\n",
      "            X66          10.000000\n",
      "            X68          10.000000\n",
      "            X69          10.000000\n",
      "            X71          14.586207\n",
      "            X72          14.666667\n",
      "            X73          11.509804\n",
      "            X74          16.964286\n",
      "            X75          12.727273\n",
      "            X76          15.000000\n",
      "            X77          14.800000\n",
      "            X78          24.440678\n",
      "Name: Count0, dtype: float64\n"
     ]
    }
   ],
   "source": [
    "df8=df4.groupby(by=['Date_x','StoreID_x'])['Count0'].sum()/df4.groupby(by=['Date_x','StoreID_x'])['Count0'].count()\n",
    "print (df8)\n",
    "\n"
   ]
  },
  {
   "cell_type": "code",
   "execution_count": null,
   "metadata": {
    "collapsed": true
   },
   "outputs": [],
   "source": [
    "df8.loc[(slice(),['x17,x']]"
   ]
  },
  {
   "cell_type": "code",
   "execution_count": null,
   "metadata": {
    "collapsed": true
   },
   "outputs": [],
   "source": []
  }
 ],
 "metadata": {
  "kernelspec": {
   "display_name": "Python [Root]",
   "language": "python",
   "name": "Python [Root]"
  },
  "language_info": {
   "codemirror_mode": {
    "name": "ipython",
    "version": 2
   },
   "file_extension": ".py",
   "mimetype": "text/x-python",
   "name": "python",
   "nbconvert_exporter": "python",
   "pygments_lexer": "ipython2",
   "version": "2.7.12"
  }
 },
 "nbformat": 4,
 "nbformat_minor": 0
}
